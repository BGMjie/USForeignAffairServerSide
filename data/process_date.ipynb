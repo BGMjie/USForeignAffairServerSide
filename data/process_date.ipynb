{
 "cells": [
  {
   "cell_type": "code",
   "execution_count": 48,
   "outputs": [],
   "source": [
    "import json\n",
    "import re\n",
    "import time\n",
    "import pandas as pd"
   ],
   "metadata": {
    "collapsed": false
   }
  },
  {
   "cell_type": "code",
   "execution_count": 49,
   "outputs": [],
   "source": [
    "df = pd.read_csv('trump_final.csv', index_col=0)"
   ],
   "metadata": {
    "collapsed": false
   }
  },
  {
   "cell_type": "code",
   "execution_count": 50,
   "outputs": [],
   "source": [
    "new_date_list = []\n",
    "for date in df['Dates']:\n",
    "    date_list = date.split('-')\n",
    "    date_list[2] = '20'+ date_list[2]\n",
    "    new_date = '-'.join(date_list)\n",
    "    struct_time = time.strptime(new_date, \"%d-%b-%Y\")  # 21-Dec-20\n",
    "    reformat_date = time.strftime(\"%Y-%m-%d\", struct_time)\n",
    "    new_date_list.append(reformat_date)\n",
    "    # print(reformat_date)"
   ],
   "metadata": {
    "collapsed": false
   }
  },
  {
   "cell_type": "code",
   "execution_count": 51,
   "outputs": [],
   "source": [
    "new_date_series = pd.Series(data=new_date_list, dtype=str)\n",
    "# new_date_series.value_counts()\n",
    "# new_date_series.describe()\n",
    "# new_date_series.sort_values()"
   ],
   "metadata": {
    "collapsed": false
   }
  },
  {
   "cell_type": "code",
   "execution_count": 52,
   "outputs": [],
   "source": [
    "# 将更新后的date插入原df\n",
    "df.insert(0,'new_date',new_date_series)"
   ],
   "metadata": {
    "collapsed": false
   }
  },
  {
   "cell_type": "code",
   "execution_count": 53,
   "outputs": [],
   "source": [
    "# 将Dates列和Link_Content列删除，生成新数组\n",
    "new_df = df.drop(['Dates', 'Link_Content'], axis=1)"
   ],
   "metadata": {
    "collapsed": false
   }
  },
  {
   "cell_type": "code",
   "execution_count": 54,
   "outputs": [],
   "source": [
    "new_columns = ['date', 'lastname', 'text', 'links', 'count', 'rank',\n",
    "       'type', 'travel_places', 'travel_start_date', 'travel_end_date', 'topics', 'meet_countries', 'link_content']\n",
    "# 改变df的列标签为全小写\n",
    "new_df.columns = new_columns"
   ],
   "metadata": {
    "collapsed": false
   }
  },
  {
   "cell_type": "code",
   "execution_count": 55,
   "outputs": [],
   "source": [
    "# 按照日期排序，并且重置行索引\n",
    "new_df = new_df.sort_values('date').reset_index(drop=True)"
   ],
   "metadata": {
    "collapsed": false
   }
  },
  {
   "cell_type": "markdown",
   "source": [
    "下面获取travel_places列中的所有地点"
   ],
   "metadata": {
    "collapsed": false
   }
  },
  {
   "cell_type": "code",
   "execution_count": 56,
   "outputs": [],
   "source": [
    "place_set = set()  # 集合有去重的功能\n",
    "for index, value in new_df['travel_places'].items():\n",
    "    if value not in [' ']:\n",
    "        place_list = value.split(' ; ')\n",
    "        place_list.pop(0) # 列表的第一项是空的\n",
    "        place_set.update(place_list)  # 用列表更新集合中的\n",
    "place_set_series = pd.Series(list(place_set))\n",
    "place_set_series.rename('place', inplace=True)\n",
    "place_set_series.to_csv('place_set.csv')"
   ],
   "metadata": {
    "collapsed": false
   }
  },
  {
   "cell_type": "code",
   "execution_count": 57,
   "outputs": [],
   "source": [
    "# 上述文件需要调geopy的api\n",
    "df_geo = pd.read_csv('place_geo_dict.csv', index_col=0)"
   ],
   "metadata": {
    "collapsed": false
   }
  },
  {
   "cell_type": "code",
   "execution_count": 58,
   "outputs": [],
   "source": [
    "geo_dicts = dict()\n",
    "for i in range(0, len(df_geo)):\n",
    "    geo_dict_key = df_geo['place'][i]\n",
    "    geo_dict_value = json.loads(df_geo['place_geo_dict'][i])\n",
    "    geo_dicts[geo_dict_key] = geo_dict_value"
   ],
   "metadata": {
    "collapsed": false
   }
  },
  {
   "cell_type": "code",
   "execution_count": 59,
   "outputs": [],
   "source": [
    "travel_places_series = new_df['travel_places'].copy()\n",
    "for index, value in travel_places_series.items():\n",
    "    if value not in [' ']:\n",
    "        place_list = value.split(' ; ')\n",
    "        place_list.pop(0) # 列表的第一项是空的\n",
    "        place_dict = dict()\n",
    "        for place in place_list:\n",
    "            place_dict.update(geo_dicts[place])\n",
    "        json_place = json.dumps(place_dict)\n",
    "        # new_place = ';'.join(place_list)\n",
    "        # print(f'place={value}----new_place={new_place}')\n",
    "        travel_places_series.loc[index] = json_place\n",
    "new_df['travel_places'] = travel_places_series"
   ],
   "metadata": {
    "collapsed": false
   }
  },
  {
   "cell_type": "code",
   "execution_count": 60,
   "outputs": [],
   "source": [
    "new_df.to_csv('trump_with_geo.csv', index=False)"
   ],
   "metadata": {
    "collapsed": false
   }
  }
 ],
 "metadata": {
  "kernelspec": {
   "display_name": "Python 3",
   "language": "python",
   "name": "python3"
  },
  "language_info": {
   "codemirror_mode": {
    "name": "ipython",
    "version": 2
   },
   "file_extension": ".py",
   "mimetype": "text/x-python",
   "name": "python",
   "nbconvert_exporter": "python",
   "pygments_lexer": "ipython2",
   "version": "2.7.6"
  }
 },
 "nbformat": 4,
 "nbformat_minor": 0
}
