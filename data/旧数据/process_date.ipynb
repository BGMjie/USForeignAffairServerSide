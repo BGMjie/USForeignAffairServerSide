{
 "cells": [
  {
   "cell_type": "code",
   "execution_count": 48,
   "outputs": [],
   "source": [
    "import json\n",
    "import re\n",
    "import time\n",
    "import pandas as pd"
   ],
   "metadata": {
    "collapsed": false
   }
  },
  {
   "cell_type": "code",
   "execution_count": 49,
   "outputs": [],
   "source": [
    "df = pd.read_csv('trump_final.csv', index_col=0)"
   ],
   "metadata": {
    "collapsed": false
   }
  },
  {
   "cell_type": "code",
   "execution_count": 50,
   "outputs": [],
   "source": [
    "new_date_list = []\n",
    "for date in df['Dates']:\n",
    "    date_list = date.split('-')\n",
    "    date_list[2] = '20'+ date_list[2]\n",
    "    new_date = '-'.join(date_list)\n",
    "    struct_time = time.strptime(new_date, \"%d-%b-%Y\")  # 21-Dec-20\n",
    "    reformat_date = time.strftime(\"%Y-%m-%d\", struct_time)\n",
    "    new_date_list.append(reformat_date)\n",
    "    # print(reformat_date)"
   ],
   "metadata": {
    "collapsed": false
   }
  },
  {
   "cell_type": "code",
   "execution_count": 51,
   "outputs": [],
   "source": [
    "new_date_series = pd.Series(data=new_date_list, dtype=str)\n",
    "# new_date_series.value_counts()\n",
    "# new_date_series.describe()\n",
    "# new_date_series.sort_values()"
   ],
   "metadata": {
    "collapsed": false
   }
  },
  {
   "cell_type": "code",
   "execution_count": 52,
   "outputs": [],
   "source": [
    "# 将更新后的date插入原df\n",
    "df.insert(0,'new_date',new_date_series)"
   ],
   "metadata": {
    "collapsed": false
   }
  },
  {
   "cell_type": "code",
   "execution_count": 53,
   "outputs": [],
   "source": [
    "# 将Dates列和Link_Content列删除，生成新数组\n",
    "new_df = df.drop(['Dates', 'Link_Content'], axis=1)"
   ],
   "metadata": {
    "collapsed": false
   }
  },
  {
   "cell_type": "code",
   "execution_count": 54,
   "outputs": [],
   "source": [
    "new_columns = ['date', 'lastname', 'text', 'links', 'count', 'rank',\n",
    "       'type', 'travel_places', 'travel_start_date', 'travel_end_date', 'topics', 'meet_countries', 'link_content']\n",
    "# 改变df的列标签为全小写\n",
    "new_df.columns = new_columns"
   ],
   "metadata": {
    "collapsed": false
   }
  },
  {
   "cell_type": "code",
   "execution_count": 55,
   "outputs": [],
   "source": [
    "# 按照日期排序，并且重置行索引\n",
    "new_df = new_df.sort_values('date').reset_index(drop=True)"
   ],
   "metadata": {
    "collapsed": false
   }
  }
 ],
 "metadata": {
  "kernelspec": {
   "display_name": "Python 3",
   "language": "python",
   "name": "python3"
  },
  "language_info": {
   "codemirror_mode": {
    "name": "ipython",
    "version": 2
   },
   "file_extension": ".py",
   "mimetype": "text/x-python",
   "name": "python",
   "nbconvert_exporter": "python",
   "pygments_lexer": "ipython2",
   "version": "2.7.6"
  }
 },
 "nbformat": 4,
 "nbformat_minor": 0
}
